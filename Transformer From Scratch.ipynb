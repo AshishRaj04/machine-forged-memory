{
 "cells": [
  {
   "cell_type": "code",
   "execution_count": 1,
   "id": "e9262450-a0b7-4be7-8947-f4f8b47db3b3",
   "metadata": {},
   "outputs": [],
   "source": [
    "import numpy as np\n",
    "import tensorflow as tf\n",
    "import matplotlib.pyplot as plt"
   ]
  },
  {
   "cell_type": "code",
   "execution_count": 2,
   "id": "e9127a66-f8a3-4f60-8cc0-a55b7642a9a9",
   "metadata": {},
   "outputs": [],
   "source": [
    "path = \"Stream-of-Consciousness Fiction.txt\""
   ]
  },
  {
   "cell_type": "code",
   "execution_count": 3,
   "id": "62aad409-a1be-4035-8f79-c100dc59119e",
   "metadata": {},
   "outputs": [
    {
     "name": "stdout",
     "output_type": "stream",
     "text": [
      "The city breathed in neon sigh\n"
     ]
    }
   ],
   "source": [
    "with open(path , \"r\" , encoding='utf-8') as f:\n",
    "    text = f.read()\n",
    "print(text[ : 30])"
   ]
  },
  {
   "cell_type": "code",
   "execution_count": 4,
   "id": "f7cbcfff-d9a4-4c29-841f-d06cc795a46a",
   "metadata": {},
   "outputs": [
    {
     "data": {
      "text/plain": [
       "67"
      ]
     },
     "execution_count": 4,
     "metadata": {},
     "output_type": "execute_result"
    }
   ],
   "source": [
    "chars = sorted(list(set(\"\".join(text))))\n",
    "len(chars) # voacb size"
   ]
  },
  {
   "cell_type": "code",
   "execution_count": 5,
   "id": "3e04e7a5-af61-420c-8e37-cdb5d717aa26",
   "metadata": {},
   "outputs": [],
   "source": [
    "stoi = { ch:i for i,ch in enumerate(chars) }\n",
    "itos = { i:ch for i,ch in enumerate(chars) }\n",
    "encode = lambda s: [stoi[c] for c in s] \n",
    "decode = lambda l: ''.join([itos[i] for i in l])"
   ]
  },
  {
   "cell_type": "code",
   "execution_count": 6,
   "id": "bf88df3f-1b81-4ee3-a2c7-a236b94c844e",
   "metadata": {},
   "outputs": [
    {
     "data": {
      "text/plain": [
       "[39, 57, 46, 47, 57, 46, 1, 56, 39, 48]"
      ]
     },
     "execution_count": 6,
     "metadata": {},
     "output_type": "execute_result"
    }
   ],
   "source": [
    "encode(\"ashish raj\")"
   ]
  },
  {
   "cell_type": "code",
   "execution_count": 7,
   "id": "2b64d979-76c2-4b9e-99cd-212d4644453a",
   "metadata": {},
   "outputs": [
    {
     "data": {
      "text/plain": [
       "'ashish raj'"
      ]
     },
     "execution_count": 7,
     "metadata": {},
     "output_type": "execute_result"
    }
   ],
   "source": [
    "decode([39, 57, 46, 47, 57, 46, 1, 56, 39, 48])"
   ]
  },
  {
   "cell_type": "code",
   "execution_count": 10,
   "id": "878f1126-425b-47ef-b9dc-8ca11bc982cc",
   "metadata": {},
   "outputs": [],
   "source": [
    "data = encode(text)\n",
    "data = np.array(data)\n",
    "n = int(0.9 * len(data))\n",
    "train_data = data[ : n]\n",
    "val_data = data[n : ]"
   ]
  },
  {
   "cell_type": "code",
   "execution_count": 31,
   "id": "dc20359a-4e0e-4908-8d87-e55b53172df5",
   "metadata": {},
   "outputs": [],
   "source": [
    "context_length = 32"
   ]
  },
  {
   "cell_type": "code",
   "execution_count": 32,
   "id": "49f2df57-d015-4b32-a51c-aa382ae6b128",
   "metadata": {},
   "outputs": [],
   "source": [
    "def get_batch(i , split):\n",
    "    # ix = tf.random.uniform((1,) , minval = 0 , maxval = (len(data)-context_length))\n",
    "    # ix = tf.cast(ix , dtype = tf.int32)\n",
    "    # ix = ix.numpy()\n",
    "    # xb = [data[i : i+context_length] for i in ix]\n",
    "    # yb = [data[i+1 : i+context_length+1] for i in ix]\n",
    "    if split == \"train\":\n",
    "        xb = train_data[i : i+context_length] \n",
    "        yb = train_data[i+1 : i+context_length+1] \n",
    "    elif split == \"val\":\n",
    "        xb = val_data[i : i+context_length] \n",
    "        yb = val_data[i+1 : i+context_length+1]\n",
    "    return xb , yb"
   ]
  },
  {
   "cell_type": "code",
   "execution_count": 33,
   "id": "f7a5000f-39d6-482b-8b36-5fd2674d27e9",
   "metadata": {},
   "outputs": [
    {
     "data": {
      "text/plain": [
       "(array([52, 57,  1, 39, 50, 53, 52, 45,  1, 58, 46, 43,  1, 56, 53, 53, 44,\n",
       "        58, 53, 54,  3, 57,  1, 43, 42, 45, 43,  6,  1, 58, 46, 43]),\n",
       " array([57,  1, 39, 50, 53, 52, 45,  1, 58, 46, 43,  1, 56, 53, 53, 44, 58,\n",
       "        53, 54,  3, 57,  1, 43, 42, 45, 43,  6,  1, 58, 46, 43, 47]))"
      ]
     },
     "execution_count": 33,
     "metadata": {},
     "output_type": "execute_result"
    }
   ],
   "source": [
    "xb , yb = get_batch(190 , \"val\")\n",
    "xb , yb"
   ]
  },
  {
   "cell_type": "code",
   "execution_count": 34,
   "id": "feb5ed30-ae8a-44b9-81d0-9d3eec56f8df",
   "metadata": {},
   "outputs": [
    {
     "data": {
      "text/plain": [
       "(\"ns along the rooftop's edge, the\", \"s along the rooftop's edge, thei\")"
      ]
     },
     "execution_count": 34,
     "metadata": {},
     "output_type": "execute_result"
    }
   ],
   "source": [
    "decode(xb) , decode(yb)"
   ]
  },
  {
   "cell_type": "code",
   "execution_count": 35,
   "id": "86e6e873-9221-4fde-bb0f-154003adcc72",
   "metadata": {},
   "outputs": [],
   "source": [
    "num_batches = 10000\n",
    "x_batches = []\n",
    "y_batches = []\n",
    "\n",
    "for i in range(num_batches):\n",
    "    xb, yb = get_batch(i , \"train\")\n",
    "    x_batches.append(xb)\n",
    "    y_batches.append(yb)\n",
    "\n",
    "x_var = tf.reshape(x_batches , (num_batches , -1))\n",
    "y_var = tf.reshape(y_batches , (num_batches , -1))"
   ]
  },
  {
   "cell_type": "code",
   "execution_count": 36,
   "id": "48ec944b-98f5-476f-b568-62dee35ec333",
   "metadata": {},
   "outputs": [
    {
     "data": {
      "text/plain": [
       "TensorShape([10000, 32])"
      ]
     },
     "execution_count": 36,
     "metadata": {},
     "output_type": "execute_result"
    }
   ],
   "source": [
    "x_var.shape"
   ]
  },
  {
   "cell_type": "code",
   "execution_count": 37,
   "id": "0be0e46c-2697-454f-8022-0fd94de3af4b",
   "metadata": {},
   "outputs": [
    {
     "data": {
      "text/plain": [
       "(<tf.Tensor: shape=(5, 32), dtype=int32, numpy=\n",
       " array([[35, 46, 43,  1, 41, 47, 58, 63,  1, 40, 56, 43, 39, 58, 46, 43,\n",
       "         42,  1, 47, 52,  1, 52, 43, 53, 52,  1, 57, 47, 45, 46, 57,  6],\n",
       "        [46, 43,  1, 41, 47, 58, 63,  1, 40, 56, 43, 39, 58, 46, 43, 42,\n",
       "          1, 47, 52,  1, 52, 43, 53, 52,  1, 57, 47, 45, 46, 57,  6,  1],\n",
       "        [43,  1, 41, 47, 58, 63,  1, 40, 56, 43, 39, 58, 46, 43, 42,  1,\n",
       "         47, 52,  1, 52, 43, 53, 52,  1, 57, 47, 45, 46, 57,  6,  1, 47],\n",
       "        [ 1, 41, 47, 58, 63,  1, 40, 56, 43, 39, 58, 46, 43, 42,  1, 47,\n",
       "         52,  1, 52, 43, 53, 52,  1, 57, 47, 45, 46, 57,  6,  1, 47, 58],\n",
       "        [41, 47, 58, 63,  1, 40, 56, 43, 39, 58, 46, 43, 42,  1, 47, 52,\n",
       "          1, 52, 43, 53, 52,  1, 57, 47, 45, 46, 57,  6,  1, 47, 58, 57]])>,\n",
       " <tf.Tensor: shape=(5, 32), dtype=int32, numpy=\n",
       " array([[46, 43,  1, 41, 47, 58, 63,  1, 40, 56, 43, 39, 58, 46, 43, 42,\n",
       "          1, 47, 52,  1, 52, 43, 53, 52,  1, 57, 47, 45, 46, 57,  6,  1],\n",
       "        [43,  1, 41, 47, 58, 63,  1, 40, 56, 43, 39, 58, 46, 43, 42,  1,\n",
       "         47, 52,  1, 52, 43, 53, 52,  1, 57, 47, 45, 46, 57,  6,  1, 47],\n",
       "        [ 1, 41, 47, 58, 63,  1, 40, 56, 43, 39, 58, 46, 43, 42,  1, 47,\n",
       "         52,  1, 52, 43, 53, 52,  1, 57, 47, 45, 46, 57,  6,  1, 47, 58],\n",
       "        [41, 47, 58, 63,  1, 40, 56, 43, 39, 58, 46, 43, 42,  1, 47, 52,\n",
       "          1, 52, 43, 53, 52,  1, 57, 47, 45, 46, 57,  6,  1, 47, 58, 57],\n",
       "        [47, 58, 63,  1, 40, 56, 43, 39, 58, 46, 43, 42,  1, 47, 52,  1,\n",
       "         52, 43, 53, 52,  1, 57, 47, 45, 46, 57,  6,  1, 47, 58, 57,  1]])>)"
      ]
     },
     "execution_count": 37,
     "metadata": {},
     "output_type": "execute_result"
    }
   ],
   "source": [
    "x_var[:5] , y_var[:5]"
   ]
  },
  {
   "cell_type": "code",
   "execution_count": 38,
   "id": "44070ebf-9d1b-4a3b-a485-a90b29361caa",
   "metadata": {},
   "outputs": [
    {
     "name": "stdout",
     "output_type": "stream",
     "text": [
      "(1500, 32)\n"
     ]
    }
   ],
   "source": [
    "num_batches = 1500\n",
    "x_batches = []\n",
    "y_batches = []\n",
    "\n",
    "for i in range(num_batches):\n",
    "    xb, yb = get_batch(i , \"val\")\n",
    "    x_batches.append(xb)\n",
    "    y_batches.append(yb)\n",
    "\n",
    "x_val = tf.reshape(x_batches , (num_batches , -1))\n",
    "y_val = tf.reshape(y_batches , (num_batches , -1))\n",
    "\n",
    "print(x_val.shape)"
   ]
  },
  {
   "cell_type": "markdown",
   "id": "fc2a5bdf-0186-4cca-b044-717731c40c0e",
   "metadata": {},
   "source": [
    "# Transformer"
   ]
  },
  {
   "cell_type": "code",
   "execution_count": 118,
   "id": "13a80de0-1b7d-428e-879f-7c8a97dfa2a2",
   "metadata": {},
   "outputs": [],
   "source": [
    "emb_dim = 128\n",
    "context_length = 32 #T\n",
    "batch_size = 16 #B\n",
    "vocab_size = len(chars)\n",
    "dk = 16\n",
    "epochs = 500\n",
    "dropout = 0.1\n",
    "n_heads = 8\n",
    "Nx = 3\n",
    "lr = 0.005"
   ]
  },
  {
   "cell_type": "code",
   "execution_count": 119,
   "id": "0a04e40c-ea48-4ce3-84a6-2e3c71fe84be",
   "metadata": {},
   "outputs": [],
   "source": [
    "initializer = tf.keras.initializers.GlorotUniform()"
   ]
  },
  {
   "cell_type": "code",
   "execution_count": 120,
   "id": "f4b6cb0c-041e-46ea-b50b-18bc492f5edc",
   "metadata": {},
   "outputs": [],
   "source": [
    "loss_fn = tf.keras.losses.SparseCategoricalCrossentropy(from_logits=True)"
   ]
  },
  {
   "cell_type": "code",
   "execution_count": 121,
   "id": "4dd38c5d-69c9-4a97-8453-37d12a531f20",
   "metadata": {},
   "outputs": [],
   "source": [
    "optimizer = tf.keras.optimizers.Adam(learning_rate = 0.00045)"
   ]
  },
  {
   "cell_type": "code",
   "execution_count": 122,
   "id": "77829eab-0056-48a8-af07-c5014b240562",
   "metadata": {},
   "outputs": [],
   "source": [
    "token_emb = tf.keras.Sequential([\n",
    "    tf.keras.layers.Embedding(vocab_size, emb_dim, input_shape=(context_length,))\n",
    "])  # (B, T, emb_dim)\n",
    "\n",
    "pos_emb = tf.keras.Sequential([\n",
    "    tf.keras.layers.Embedding(context_length, emb_dim, input_shape=())\n",
    "])  # (T, emb_dim)"
   ]
  },
  {
   "cell_type": "code",
   "execution_count": 123,
   "id": "f3517b17-5ee1-45a3-a27f-33acd1545fca",
   "metadata": {},
   "outputs": [],
   "source": [
    "WQ = [[tf.Variable(initializer(shape=(emb_dim, dk)), trainable=True) \n",
    "       for _ in range(n_heads)] for _ in range(Nx)]\n",
    "WK = [[tf.Variable(initializer(shape=(emb_dim, dk)), trainable=True) \n",
    "       for _ in range(n_heads)] for _ in range(Nx)]\n",
    "WV = [[tf.Variable(initializer(shape=(emb_dim, dk)), trainable=True) \n",
    "       for _ in range(n_heads)] for _ in range(Nx)]\n",
    "WO = [tf.Variable(initializer(shape=(n_heads * dk, emb_dim)), trainable=True) \n",
    "      for _ in range(Nx)]"
   ]
  },
  {
   "cell_type": "markdown",
   "id": "cd20c3bd-71fb-47d1-b0cb-42537ceed2d6",
   "metadata": {},
   "source": [
    "```\n",
    "WK: (6, 4, 64, 16)\n",
    "     ↑  ↑   ↑   ↑\n",
    "    Nx  h  emb  dk\n",
    "\n",
    "```    \n",
    "\n",
    "\n",
    "So in your ```transformer_block(x, block_id, ...)```, you need to index as:\n",
    "```WK[block_id][head]```"
   ]
  },
  {
   "cell_type": "code",
   "execution_count": 124,
   "id": "835a9b7a-a69f-4e26-9897-2111ee66f3a3",
   "metadata": {},
   "outputs": [],
   "source": [
    "tril = tf.Variable(tf.keras.ops.tril(tf.ones((context_length,context_length))) , trainable = False) #(T , T)\n",
    "mask = (tril == 0)\n",
    "\n",
    "ln1 = tf.keras.Sequential([\n",
    "    tf.keras.layers.Input(shape=(context_length , emb_dim)),\n",
    "    tf.keras.layers.LayerNormalization()\n",
    "])\n",
    "ln2 = tf.keras.Sequential([\n",
    "    tf.keras.layers.Input(shape=(context_length , emb_dim)),\n",
    "    tf.keras.layers.LayerNormalization()\n",
    "])"
   ]
  },
  {
   "cell_type": "code",
   "execution_count": 125,
   "id": "c44236bf-fa68-4cd0-bb77-d00af878dacd",
   "metadata": {},
   "outputs": [],
   "source": [
    "ffwd = [tf.keras.Sequential([\n",
    "        tf.keras.layers.Input(shape=(context_length , emb_dim)),\n",
    "        tf.keras.layers.Dense(4 * emb_dim),\n",
    "        tf.keras.layers.ReLU(),\n",
    "        tf.keras.layers.Dense(emb_dim),\n",
    "        tf.keras.layers.Dropout(dropout)\n",
    "    ]) for _ in range(Nx)]\n",
    "\n",
    "ln_block = [tf.keras.Sequential([\n",
    "    tf.keras.layers.Input(shape=(context_length , emb_dim)),\n",
    "    tf.keras.layers.LayerNormalization()\n",
    "]) for _ in range(Nx)]\n",
    "\n",
    "lm_head = tf.keras.Sequential([\n",
    "    tf.keras.layers.Input(shape=(context_length , emb_dim)),\n",
    "    tf.keras.layers.Dense(vocab_size),\n",
    "    tf.keras.layers.ReLU(),\n",
    "])"
   ]
  },
  {
   "cell_type": "code",
   "execution_count": 126,
   "id": "e664c63f-6d78-45c4-bc8a-fb5f3ff0d56b",
   "metadata": {},
   "outputs": [
    {
     "name": "stdout",
     "output_type": "stream",
     "text": [
      "Total number of parameters: 614339\n"
     ]
    }
   ],
   "source": [
    "parameters = (token_emb.trainable_variables + pos_emb.trainable_variables +\n",
    "             [w for block in WQ for w in block] +\n",
    "             [w for block in WK for w in block] +\n",
    "             [w for block in WV for w in block] +\n",
    "             WO +\n",
    "             [p for f in ffwd for p in f.trainable_variables] +\n",
    "             lm_head.trainable_variables +\n",
    "             [p for ln in ln_block for p in ln.trainable_variables] +\n",
    "             ln1.trainable_variables + ln2.trainable_variables)\n",
    "\n",
    "no_params = sum(tf.size(p).numpy() for p in parameters)\n",
    "print(\"Total number of parameters:\", no_params)"
   ]
  },
  {
   "cell_type": "code",
   "execution_count": 127,
   "id": "5b6d0c2d-63e4-4192-984d-60051cab3a1b",
   "metadata": {},
   "outputs": [],
   "source": [
    "def transformer_block(x , enc ,  block_id ,  ln_block , ffwd):\n",
    "    multi_attention_score = [] # multi head outputs\n",
    "    for head in range(n_heads):\n",
    "        # Single masked self attention implementation\n",
    "        key = x @ WK[block_id][head] # (B , T , DK)\n",
    "        query = x @ WQ[block_id][head]\n",
    "        value = x @ WV[block_id][head]\n",
    "        wei = query @ tf.transpose(key , perm=[0,2,1]) #(B , T , dk) @ (B , dk , T) --> (B , T , T)\n",
    "        wei = wei / tf.math.sqrt(tf.cast(dk , tf.float32))\n",
    "        wei = tf.where(mask , float('-inf') , wei)\n",
    "        wei = tf.nn.softmax(wei , axis = -1)  #(B , T , T)\n",
    "        wei = tf.keras.layers.Dropout(dropout)(wei)        \n",
    "        out = wei @ value #(B , T , dk)\n",
    "        multi_attention_score.append(out) # n_heads elements of shape (B, T, dk)\n",
    "    concatenated = tf.concat(multi_attention_score , axis=-1) # -> (B, T, n_heads * dk)\n",
    "    output = concatenated @ WO[block_id] # (B, T, n_heads * dk) * (n_heads * dk , emb_dim) --> (B , T , emb_dim)\n",
    "    output = tf.keras.layers.Dropout(dropout)(output) #(B , T , emb_dim)\n",
    "    # Residual connection and Feed Forward Connection\n",
    "    attn_out = output + enc # residual after attention  #(B , T , emb_dim)\n",
    "    x = ln_block[block_id](attn_out) # layer norm\n",
    "    ffn_out = attn_out + ffwd[block_id](x) # residual after feed forward   #(B , T , emb_dim)\n",
    "    return ffn_out #(B , T , emb_dim)"
   ]
  },
  {
   "cell_type": "code",
   "execution_count": 89,
   "id": "28caf781-e76c-4071-9516-568720bff743",
   "metadata": {},
   "outputs": [],
   "source": [
    "# lre = tf.linspace(-5, -1, 500)\n",
    "# lrs = 10 ** lre\n",
    "# lrs = lrs.numpy()"
   ]
  },
  {
   "cell_type": "code",
   "execution_count": 128,
   "id": "94311467-4b8b-45ca-8a61-9040ee5d2ad0",
   "metadata": {},
   "outputs": [
    {
     "name": "stdout",
     "output_type": "stream",
     "text": [
      "epoch=0, loss=4.5129\n",
      "epoch=25, loss=3.4637\n",
      "epoch=50, loss=3.2852\n",
      "epoch=75, loss=3.2801\n",
      "epoch=100, loss=3.3640\n",
      "epoch=125, loss=3.2196\n",
      "epoch=150, loss=3.0287\n",
      "epoch=175, loss=3.1020\n",
      "epoch=200, loss=2.9866\n",
      "epoch=225, loss=3.0724\n",
      "epoch=250, loss=2.9389\n",
      "epoch=275, loss=3.0406\n",
      "epoch=300, loss=3.0179\n",
      "epoch=325, loss=2.9886\n",
      "epoch=350, loss=2.9422\n",
      "epoch=375, loss=2.8600\n",
      "epoch=400, loss=3.0501\n",
      "epoch=425, loss=3.1123\n",
      "epoch=450, loss=3.0188\n",
      "epoch=475, loss=2.9663\n"
     ]
    }
   ],
   "source": [
    "losses = []\n",
    "for epoch in range(epochs):\n",
    "    ix = tf.keras.random.randint(shape=(batch_size,) , minval=0 , maxval=x_var.shape[0])\n",
    "    Xb , Yb = tf.gather(x_var , ix) , tf.gather(y_var , ix) # batch X(batch_size, context_length) , Y(batch_size, context_length)\n",
    "    with tf.GradientTape() as tape:\n",
    "        # Context and Position Encoding\n",
    "        te = token_emb(Xb)  #(B , T , emb_dim)\n",
    "        pe = pos_emb(tf.range(context_length))  #(T , emb_dim)\n",
    "        enc = te + pe  #(B , T , emb_dim)\n",
    "\n",
    "        x = ln1(enc) # layer norm\n",
    "\n",
    "        ############# Nx number of TRANSFORMER BLOCKS #############\n",
    "        \n",
    "        for i in range(Nx):\n",
    "            x = transformer_block(x , enc , i , ln_block , ffwd) # x gets updated at each block operation rather than collecting outputs from all blocks .\n",
    "            \n",
    "        ###########################################################    \n",
    "        \n",
    "        # Final Linear for logits\n",
    "        x = ln2(x) # (B , T , emb_dim)\n",
    "        logits = lm_head(x) # (B , T , vocab_size)\n",
    "        \n",
    "        # Loss calculation\n",
    "        logits_flat = tf.reshape(logits, (-1, logits.shape[2]))  # (B*T, vocab_size)\n",
    "        targets_flat = tf.reshape(Yb, (-1,))  # (B*T,)\n",
    "        loss = loss_fn(targets_flat, logits_flat)\n",
    "        loss = tf.reduce_mean(loss)\n",
    "\n",
    "    grads = tape.gradient(loss , parameters)\n",
    "    optimizer.apply_gradients(zip(grads, parameters))\n",
    "\n",
    "    losses.append(loss.numpy())\n",
    "\n",
    "    if epoch % 25 == 0:\n",
    "      print(f\"epoch={epoch}, loss={loss.numpy():.4f}\")"
   ]
  },
  {
   "cell_type": "code",
   "execution_count": 68,
   "id": "2c6ffee2-3d58-4af8-a600-9da9e55ef1db",
   "metadata": {},
   "outputs": [],
   "source": [
    "# losses = []\n",
    "\n",
    "# for epoch in range(epochs):\n",
    "#     ix = tf.keras.random.randint(shape = (batch_size,) , minval=0 , maxval=x_var.shape[0])\n",
    "#     Xb, Yb = tf.gather(x_var , ix) , tf.gather(y_var , ix) # batch X(16, 4) , Y(16, 4)\n",
    "#     with tf.GradientTape() as tape:\n",
    "        \n",
    "#         # Context and Position Encoding\n",
    "#         tm = token_emb(Xb) #(B , T , emb_dim)\n",
    "#         pm = pos_emb(tf.range(context_length)) #(T , emb_dim)\n",
    "#         enc = tm+pm #(B , T , emb_dim)\n",
    "        \n",
    "#         x = ln1(enc)  # layer norm\n",
    "        \n",
    "# ################### SINGLE BLOCK OF TRANSFORMER ######################################################       \n",
    "#         multi_attention_score = [] # multi head outputs\n",
    "#         for i in range(n_heads):\n",
    "#         # Single masked self attention implementation\n",
    "#             # B , T , EMB = x.shape\n",
    "#             key = x @ WK[i] #(B , T , dk)\n",
    "#             query = x @ WQ[i]\n",
    "#             value = x @ WV[i]\n",
    "#             wei = query @ tf.transpose(key , perm = [0 , 2 , 1]) #(B , T , dk) @ (B , dk , T) --> (B , T , T)\n",
    "#             wei = wei / (dk ** 0.5)\n",
    "#             wei = tf.where(mask , float('-inf') , wei)\n",
    "#             wei = tf.nn.softmax(wei , axis = -1) #(B , T , T)\n",
    "#             wei = tf.keras.layers.Dropout(dropout)(wei)\n",
    "#             out = wei @ value #(B , T , dk)\n",
    "#             multi_attention_score.append(out) # n_heads elements of shape (B, T, dk)\n",
    "#         concatenated = tf.concat(multi_attention_score, axis=-1)  # -> (B, T, n_heads * dk)\n",
    "#         output = concatenated @ WO # (B, T, n_heads * dk) * (n_heads * dk , emb_dim) --> (B , T , emb_dim)\n",
    "#         output = tf.keras.layers.Dropout(dropout)(output)  #(B , T , emb_dim)\n",
    "\n",
    "#         # Residual connection and Feed Forward Connection\n",
    "#         attn_out = enc + output            # residual after attention  #(B , T , emb_dim)\n",
    "#         x = ln2(attn_out)                  # layer norm\n",
    "#         ffn_out = attn_out + ffwd(x)       # residual after FFN            (B , T , emb_dim)\n",
    "# ######################################################################################################\n",
    "   \n",
    "#         # Final Linear for logits\n",
    "#         x = ln3(ffn_out)\n",
    "#         logits = lm_head(x) # (B , T , vocab_size)\n",
    "\n",
    "#         # Loss calculation\n",
    "#         logits_flat = tf.reshape(logits, (-1, logits.shape[2]))  # (B*T, vocab_size)\n",
    "#         targets_flat = tf.reshape(Yb, (-1,))  # (B*T,)\n",
    "#         loss = loss_fn(targets_flat, logits_flat)\n",
    "#         loss = tf.reduce_mean(loss)\n",
    "\n",
    "#     grads = tape.gradient(loss , parameters)\n",
    "#     optimizer.apply_gradients(zip(grads, parameters))\n",
    "\n",
    "#     losses.append(loss.numpy())\n",
    "\n",
    "#     if epoch % 25 == 0:\n",
    "#       print(f\"epoch={epoch}, loss={loss.numpy():.4f}\")"
   ]
  },
  {
   "cell_type": "code",
   "execution_count": 129,
   "id": "e84dd3aa-1d18-4643-bd44-f965192d9f1b",
   "metadata": {},
   "outputs": [
    {
     "data": {
      "text/plain": [
       "2.8661022"
      ]
     },
     "execution_count": 129,
     "metadata": {},
     "output_type": "execute_result"
    }
   ],
   "source": [
    "losses[-1]"
   ]
  },
  {
   "cell_type": "code",
   "execution_count": 130,
   "id": "033d16d9-b2d5-4ad4-90f4-d8b123272c6b",
   "metadata": {},
   "outputs": [
    {
     "data": {
      "image/png": "[encoded data removed]",
      "text/plain": [
       "<Figure size 1000x600 with 1 Axes>"
      ]
     },
     "metadata": {},
     "output_type": "display_data"
    }
   ],
   "source": [
    "plt.figure(figsize=(10, 6))\n",
    "plt.plot(losses, linestyle='-', color='b')\n",
    "plt.title('Loss vs. Epoch', fontsize=16)\n",
    "plt.xlabel('Epoch', fontsize=12)\n",
    "plt.ylabel('Loss', fontsize=12)\n",
    "plt.grid(True)\n",
    "plt.show()"
   ]
  },
  {
   "cell_type": "code",
   "execution_count": 131,
   "id": "8864dce1-7c22-40fb-90f4-32d2ab932167",
   "metadata": {},
   "outputs": [],
   "source": [
    "generated = []\n",
    "context = [0] * context_length  # Start context\n",
    "\n",
    "for _ in range(350):  # Generate 350 tokens\n",
    "    Xb = tf.constant([context], dtype=tf.int32)  # Shape (1, T)\n",
    "\n",
    "    # Forward pass\n",
    "    tm = token_emb(Xb)                          # (1, T, emb_dim)\n",
    "    pm = pos_emb(tf.range(context_length))      # (T, emb_dim)\n",
    "    pm = tf.expand_dims(pm, axis=0)             # (1, T, emb_dim)\n",
    "    enc = tm + pm                               # (1, T, emb_dim)\n",
    "\n",
    "    x = ln1(enc)\n",
    "    for i in range(Nx):\n",
    "        x = transformer_block(x , enc , i , ln_block , ffwd)\n",
    "    x = ln2(x)\n",
    "    logits = lm_head(x)                         # (1, T, vocab_size)\n",
    "\n",
    "    # Take the logits at the last position\n",
    "    last_logits = logits[:, -1, :]              # (1, vocab_size)\n",
    "    probs = tf.nn.softmax(last_logits, axis=-1) # (1, vocab_size)\n",
    "\n",
    "    ix = tf.random.categorical(tf.math.log(probs), num_samples=1)[0, 0].numpy()\n",
    "    context = context[1:] + [ix]  # Slide the context window\n",
    "    generated.append(ix)\n"
   ]
  },
  {
   "cell_type": "code",
   "execution_count": 132,
   "id": "b22b4a74-ffd3-418c-8d36-ffb2db77621b",
   "metadata": {},
   "outputs": [
    {
     "data": {
      "text/plain": [
       "'dySiei ersenleirllwsa h ablp sdudhaoryhNuiso pdidoshhwsenuverkntuegbeuyashnl8hennl shet i wlanrairhce ttlheefShhhMR hodgerya wnhech  Gercan iHlttl,o annf  fafdhsa icigi ethen ontt ddee  e, lonc,ts i hteerXad  ioa rhelenniyouaf,dh aglinansadc3 asorto  or ?tcoTb rhh tan   eneofhpos hghoadoe \\'rhen4rp wtTltrheiil ang ciGiggasdwaeeupassestu\" hyh yh,bpin'"
      ]
     },
     "execution_count": 132,
     "metadata": {},
     "output_type": "execute_result"
    }
   ],
   "source": [
    "decode(generated)"
   ]
  },
  {
   "cell_type": "markdown",
   "id": "b6a1a144-99e0-4de9-875d-757f116a417a",
   "metadata": {},
   "source": [
    "### Conclusions\n",
    "- *1 Block , 500 epochs , loss of = 2.3593497 , parameters = 58k , lr = 0.001 , context_length=4*\n",
    "- **output sample:**'?WonDe yLenn sekive .\\n?Iverueleals din reys itXinfene catwing c3whes yofeto frope ins thelAlkikin thous son owicho fXrol yYGthe noMvened thomam the chily eapaus The dliPy4 whif lling thea feo mivik whing eWr, imad chike ethis meYh fimingcA wher keingt liking fo icas tiwas ceund ’s 1h dintsD nowhr che carlits the thedn yos se0ler tc\\ntaHeuld shcarad fi?’d indgn fon owrel siverfnallero any f yond yod the hameot doide i-hejabt\n",
    "- *3 Block , 500 epochs , loss of = 2.6659708, parameters = 157955 , lr = 0.001 , context_length=4*\n",
    "- **output sample:**'Sittift w thesd oa f1thung t\" mm rtuh d Cfe theld a’deom shinderCun onthe 1cont serowhsoaltafban0 t D t lwin, cs s ig spiFn bino tme\\'’boasapo’d3m sont, fa oqbe sthoen pintoberotifm the bpruler ds m thHatitolore\\nphh fs f ofn d casrt Npegi m4lid, aLidipreralyctlar, lykoong apiSiclh rpin n s pty whiner y ) sso og o—tn ng ars y hikond w encand, on-nga s aalh pinopocerop wpaanong ,dd d,s oner ph cr Ritmis y a, slabon, d tliny\\nndere r tichyrake s anrD l coff whithhe whenghaleoocs ung g, th s Cert ng\\nDsend s theron yg e, thareppas whun cighondX-nenbb y tit oanfptoif\n",
    "-  *2 Block , 500 epochs , loss of = 2.4319515, parameters = 91971 , lr = 0.001 , context_length=4*\n",
    "-  'sin ly cag ha porire lomaa mabghesling laslolt amo 0eleude t sore ssshite borei, t0r dade ber tmanezasa t shy ’t bmeemit shayA serdicecYir dce neraome at pXses ans yuFwag t a on bad saimed aplGe teate uged t admed mat assed dad t sArt e me agkelof wMinea Gusfisitot s at aschir da at t fertry henslyootBun a in fealif reulpt?2g0rscarede hberis rens i'\n",
    "-  *2 Block , 500 epochs , loss of = 2.5481987, parameters = 92227 , lr = 5e-4 , context_length=8*\n",
    "-  'qnog an2 noitocC\\ns cmintgiaves, lerass t\\ndriIqn tade lonoot n clin cthalrant nthl mailillcen threre sicratg woprtilke s ghNnstheJEe—th the toltdef tan aneyl theranAtemclco satmo, fotinT’gaw thith he Theang pore arcantt cchFlin keivamestigint oyt toast whiIntor sthanbe const tocng thasngMiman thoviy \"yot aln wheceang otskitele thof\\'maetet vbecod ra '"
   ]
  },
  {
   "cell_type": "code",
   "execution_count": null,
   "id": "45f583f5-5a9d-4db1-8ad1-980aeed68639",
   "metadata": {},
   "outputs": [],
   "source": []
  }
 ],
 "metadata": {
  "kernelspec": {
   "display_name": "Python 3 (ipykernel)",
   "language": "python",
   "name": "python3"
  },
  "language_info": {
   "codemirror_mode": {
    "name": "ipython",
    "version": 3
   },
   "file_extension": ".py",
   "mimetype": "text/x-python",
   "name": "python",
   "nbconvert_exporter": "python",
   "pygments_lexer": "ipython3",
   "version": "3.12.7"
  }
 },
 "nbformat": 4,
 "nbformat_minor": 5
}
